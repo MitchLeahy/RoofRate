{
 "cells": [
  {
   "cell_type": "code",
   "execution_count": 6,
   "metadata": {},
   "outputs": [],
   "source": [
    "import roboflow\n",
    "import dotenv"
   ]
  },
  {
   "cell_type": "code",
   "execution_count": null,
   "metadata": {},
   "outputs": [],
   "source": []
  },
  {
   "cell_type": "code",
   "execution_count": 31,
   "metadata": {},
   "outputs": [
    {
     "ename": "ModuleNotFoundError",
     "evalue": "No module named 'azure'",
     "output_type": "error",
     "traceback": [
      "\u001b[0;31m---------------------------------------------------------------------------\u001b[0m",
      "\u001b[0;31mModuleNotFoundError\u001b[0m                       Traceback (most recent call last)",
      "Cell \u001b[0;32mIn[31], line 1\u001b[0m\n\u001b[0;32m----> 1\u001b[0m \u001b[38;5;28;01mfrom\u001b[39;00m \u001b[38;5;21;01msrc\u001b[39;00m\u001b[38;5;21;01m.\u001b[39;00m\u001b[38;5;21;01mapp\u001b[39;00m\u001b[38;5;21;01m.\u001b[39;00m\u001b[38;5;21;01mutils\u001b[39;00m \u001b[38;5;28;01mimport\u001b[39;00m yolo_detect_roboflow\n",
      "File \u001b[0;32m~/Documents/Projects/RoofRate/RoofRate/src/app/utils.py:1\u001b[0m\n\u001b[0;32m----> 1\u001b[0m \u001b[38;5;28;01mfrom\u001b[39;00m \u001b[38;5;21;01mazure\u001b[39;00m\u001b[38;5;21;01m.\u001b[39;00m\u001b[38;5;21;01mstorage\u001b[39;00m\u001b[38;5;21;01m.\u001b[39;00m\u001b[38;5;21;01mblob\u001b[39;00m \u001b[38;5;28;01mimport\u001b[39;00m BlobClient, ContentSettings, BlobServiceClient\n\u001b[1;32m      2\u001b[0m \u001b[38;5;28;01mfrom\u001b[39;00m \u001b[38;5;21;01mPIL\u001b[39;00m \u001b[38;5;28;01mimport\u001b[39;00m Image\n\u001b[1;32m      3\u001b[0m \u001b[38;5;28;01mimport\u001b[39;00m \u001b[38;5;21;01mnumpy\u001b[39;00m \u001b[38;5;28;01mas\u001b[39;00m \u001b[38;5;21;01mnp\u001b[39;00m\n",
      "\u001b[0;31mModuleNotFoundError\u001b[0m: No module named 'azure'"
     ]
    }
   ],
   "source": [
    "from src.app.utils import yolo_detect_roboflow"
   ]
  },
  {
   "cell_type": "code",
   "execution_count": null,
   "metadata": {},
   "outputs": [
    {
     "name": "stdout",
     "output_type": "stream",
     "text": [
      "loading Roboflow workspace...\n",
      "loading Roboflow project...\n"
     ]
    },
    {
     "data": {
      "text/plain": [
       "{'predictions': [{'x': 250.5,\n",
       "   'y': 238.0,\n",
       "   'width': 215.0,\n",
       "   'height': 114.0,\n",
       "   'confidence': 0.9084483981132507,\n",
       "   'class': 'Roof',\n",
       "   'class_id': 0,\n",
       "   'detection_id': '5bdc91ea-cd58-455e-82ca-c23d9cb7f6ea',\n",
       "   'image_path': '/Users/mitchleahy/Documents/Projects/RoofData/data/south_boston_color/99 OLD HARBOR ST SOUTH BOSTON 2127.0.png',\n",
       "   'prediction_type': 'ObjectDetectionModel'},\n",
       "  {'x': 211.0,\n",
       "   'y': 92.0,\n",
       "   'width': 320.0,\n",
       "   'height': 144.0,\n",
       "   'confidence': 0.9038634896278381,\n",
       "   'class': 'Roof',\n",
       "   'class_id': 0,\n",
       "   'detection_id': 'd1562ae4-7b27-4164-b93d-94ae75361e56',\n",
       "   'image_path': '/Users/mitchleahy/Documents/Projects/RoofData/data/south_boston_color/99 OLD HARBOR ST SOUTH BOSTON 2127.0.png',\n",
       "   'prediction_type': 'ObjectDetectionModel'},\n",
       "  {'x': 172.5,\n",
       "   'y': 433.0,\n",
       "   'width': 127.0,\n",
       "   'height': 106.0,\n",
       "   'confidence': 0.901659369468689,\n",
       "   'class': 'Roof Deck',\n",
       "   'class_id': 1,\n",
       "   'detection_id': '2eb99c5f-bee9-4525-92ee-a2a9ad6a4e17',\n",
       "   'image_path': '/Users/mitchleahy/Documents/Projects/RoofData/data/south_boston_color/99 OLD HARBOR ST SOUTH BOSTON 2127.0.png',\n",
       "   'prediction_type': 'ObjectDetectionModel'},\n",
       "  {'x': 221.5,\n",
       "   'y': 432.5,\n",
       "   'width': 295.0,\n",
       "   'height': 145.0,\n",
       "   'confidence': 0.8907272815704346,\n",
       "   'class': 'Roof',\n",
       "   'class_id': 0,\n",
       "   'detection_id': '7040f4c9-e1ba-4b50-87b1-5f184633616a',\n",
       "   'image_path': '/Users/mitchleahy/Documents/Projects/RoofData/data/south_boston_color/99 OLD HARBOR ST SOUTH BOSTON 2127.0.png',\n",
       "   'prediction_type': 'ObjectDetectionModel'},\n",
       "  {'x': 227.0,\n",
       "   'y': 565.5,\n",
       "   'width': 298.0,\n",
       "   'height': 69.0,\n",
       "   'confidence': 0.8418359160423279,\n",
       "   'class': 'Roof',\n",
       "   'class_id': 0,\n",
       "   'detection_id': '0e2493d2-ab63-49b4-a74f-fc9b94a94ba5',\n",
       "   'image_path': '/Users/mitchleahy/Documents/Projects/RoofData/data/south_boston_color/99 OLD HARBOR ST SOUTH BOSTON 2127.0.png',\n",
       "   'prediction_type': 'ObjectDetectionModel'},\n",
       "  {'x': 34.0,\n",
       "   'y': 535.5,\n",
       "   'width': 66.0,\n",
       "   'height': 129.0,\n",
       "   'confidence': 0.8086346387863159,\n",
       "   'class': 'Roof',\n",
       "   'class_id': 0,\n",
       "   'detection_id': '073075b3-b3b8-4c46-bc13-d9fe69ec2786',\n",
       "   'image_path': '/Users/mitchleahy/Documents/Projects/RoofData/data/south_boston_color/99 OLD HARBOR ST SOUTH BOSTON 2127.0.png',\n",
       "   'prediction_type': 'ObjectDetectionModel'},\n",
       "  {'x': 28.0,\n",
       "   'y': 556.0,\n",
       "   'width': 56.0,\n",
       "   'height': 86.0,\n",
       "   'confidence': 0.4204465448856354,\n",
       "   'class': 'Roof Deck',\n",
       "   'class_id': 1,\n",
       "   'detection_id': 'eb1a329a-7860-4f25-9835-2eb726da6103',\n",
       "   'image_path': '/Users/mitchleahy/Documents/Projects/RoofData/data/south_boston_color/99 OLD HARBOR ST SOUTH BOSTON 2127.0.png',\n",
       "   'prediction_type': 'ObjectDetectionModel'}],\n",
       " 'image': {'width': '600', 'height': '600'}}"
      ]
     },
     "execution_count": 46,
     "metadata": {},
     "output_type": "execute_result"
    }
   ],
   "source": [
    "api_key = dotenv.get_key(dotenv.find_dotenv(), \"ROBOFLOW_API_KEY\")\n",
    "rf = roboflow.Roboflow(api_key=api_key)\n",
    "project = rf.workspace().project(\"roofrate\")\n",
    "versions = project.versions()\n",
    "VERSION_ID = versions[0].version\n",
    "\n",
    "model = project.version(VERSION_ID).model\n",
    "results = model.predict(\"/Users/mitchleahy/Documents/Projects/RoofData/data/south_boston_color/99 OLD HARBOR ST SOUTH BOSTON 2127.0.png\")\n",
    "results.json()\n"
   ]
  },
  {
   "cell_type": "code",
   "execution_count": 27,
   "metadata": {},
   "outputs": [],
   "source": [
    "\n",
    "\n",
    "# infer on a local image\n",
    "results = model.predict(\"/Users/mitchleahy/Documents/Projects/RoofData/data/south_boston_color/99 OLD HARBOR ST SOUTH BOSTON 2127.0.png\",format=\"json\")"
   ]
  },
  {
   "cell_type": "code",
   "execution_count": 30,
   "metadata": {},
   "outputs": [
    {
     "data": {
      "text/plain": [
       "{'predictions': [{'x': 250.5,\n",
       "   'y': 238.0,\n",
       "   'width': 215.0,\n",
       "   'height': 114.0,\n",
       "   'confidence': 0.9084483981132507,\n",
       "   'class': 'Roof',\n",
       "   'class_id': 0,\n",
       "   'detection_id': 'f11da468-c1c5-47dc-92e8-e836b446fbb9',\n",
       "   'image_path': '/Users/mitchleahy/Documents/Projects/RoofData/data/south_boston_color/99 OLD HARBOR ST SOUTH BOSTON 2127.0.png',\n",
       "   'prediction_type': 'ObjectDetectionModel'},\n",
       "  {'x': 211.0,\n",
       "   'y': 92.0,\n",
       "   'width': 320.0,\n",
       "   'height': 144.0,\n",
       "   'confidence': 0.9038634896278381,\n",
       "   'class': 'Roof',\n",
       "   'class_id': 0,\n",
       "   'detection_id': '0011d17b-2f4c-4919-b473-24d35490042d',\n",
       "   'image_path': '/Users/mitchleahy/Documents/Projects/RoofData/data/south_boston_color/99 OLD HARBOR ST SOUTH BOSTON 2127.0.png',\n",
       "   'prediction_type': 'ObjectDetectionModel'},\n",
       "  {'x': 172.5,\n",
       "   'y': 433.0,\n",
       "   'width': 127.0,\n",
       "   'height': 106.0,\n",
       "   'confidence': 0.901659369468689,\n",
       "   'class': 'Roof Deck',\n",
       "   'class_id': 1,\n",
       "   'detection_id': '49940ac9-7c22-49a1-b29d-2e9aa267d0dc',\n",
       "   'image_path': '/Users/mitchleahy/Documents/Projects/RoofData/data/south_boston_color/99 OLD HARBOR ST SOUTH BOSTON 2127.0.png',\n",
       "   'prediction_type': 'ObjectDetectionModel'},\n",
       "  {'x': 221.5,\n",
       "   'y': 432.5,\n",
       "   'width': 295.0,\n",
       "   'height': 145.0,\n",
       "   'confidence': 0.8907272815704346,\n",
       "   'class': 'Roof',\n",
       "   'class_id': 0,\n",
       "   'detection_id': '7ef51331-c92b-4093-ab76-50468dd15f6c',\n",
       "   'image_path': '/Users/mitchleahy/Documents/Projects/RoofData/data/south_boston_color/99 OLD HARBOR ST SOUTH BOSTON 2127.0.png',\n",
       "   'prediction_type': 'ObjectDetectionModel'},\n",
       "  {'x': 227.0,\n",
       "   'y': 565.5,\n",
       "   'width': 298.0,\n",
       "   'height': 69.0,\n",
       "   'confidence': 0.8418359160423279,\n",
       "   'class': 'Roof',\n",
       "   'class_id': 0,\n",
       "   'detection_id': '97bbab2f-cffd-43d7-8fe7-8e3ddab7327c',\n",
       "   'image_path': '/Users/mitchleahy/Documents/Projects/RoofData/data/south_boston_color/99 OLD HARBOR ST SOUTH BOSTON 2127.0.png',\n",
       "   'prediction_type': 'ObjectDetectionModel'},\n",
       "  {'x': 34.0,\n",
       "   'y': 535.5,\n",
       "   'width': 66.0,\n",
       "   'height': 129.0,\n",
       "   'confidence': 0.8086346387863159,\n",
       "   'class': 'Roof',\n",
       "   'class_id': 0,\n",
       "   'detection_id': '7414e2fd-e9d3-43d9-b7e2-9d62e13e620b',\n",
       "   'image_path': '/Users/mitchleahy/Documents/Projects/RoofData/data/south_boston_color/99 OLD HARBOR ST SOUTH BOSTON 2127.0.png',\n",
       "   'prediction_type': 'ObjectDetectionModel'},\n",
       "  {'x': 28.0,\n",
       "   'y': 556.0,\n",
       "   'width': 56.0,\n",
       "   'height': 86.0,\n",
       "   'confidence': 0.4204465448856354,\n",
       "   'class': 'Roof Deck',\n",
       "   'class_id': 1,\n",
       "   'detection_id': '7ab5955b-d36d-4d2b-8e32-36d2067cae57',\n",
       "   'image_path': '/Users/mitchleahy/Documents/Projects/RoofData/data/south_boston_color/99 OLD HARBOR ST SOUTH BOSTON 2127.0.png',\n",
       "   'prediction_type': 'ObjectDetectionModel'}],\n",
       " 'image': {'width': '600', 'height': '600'}}"
      ]
     },
     "execution_count": 30,
     "metadata": {},
     "output_type": "execute_result"
    }
   ],
   "source": [
    "results.json()\n"
   ]
  },
  {
   "cell_type": "code",
   "execution_count": 33,
   "metadata": {},
   "outputs": [
    {
     "name": "stdout",
     "output_type": "stream",
     "text": [
      "Response: {'inference_id': '1ce2e8b2-e403-4ba8-aee2-b3c1482b69ac', 'time': 0.056345417000102316, 'image': {'width': 600, 'height': 600}, 'predictions': [{'x': 250.5, 'y': 238.0, 'width': 215.0, 'height': 114.0, 'confidence': 0.9084483981132507, 'class': 'Roof', 'class_id': 0, 'detection_id': '1cfbc393-4de2-4407-869b-583ed6d2f67f'}, {'x': 211.0, 'y': 92.0, 'width': 320.0, 'height': 144.0, 'confidence': 0.9038634896278381, 'class': 'Roof', 'class_id': 0, 'detection_id': '8db1d844-5ae3-4538-9eae-8bc52ef27668'}, {'x': 172.5, 'y': 433.0, 'width': 127.0, 'height': 106.0, 'confidence': 0.901659369468689, 'class': 'Roof Deck', 'class_id': 1, 'detection_id': '7b680558-f35d-45db-b9c2-155802a3e2ab'}, {'x': 221.5, 'y': 432.5, 'width': 295.0, 'height': 145.0, 'confidence': 0.8907272815704346, 'class': 'Roof', 'class_id': 0, 'detection_id': '9b749786-2b82-4c56-826b-1b7923a4a1a0'}, {'x': 227.0, 'y': 565.5, 'width': 298.0, 'height': 69.0, 'confidence': 0.8418359160423279, 'class': 'Roof', 'class_id': 0, 'detection_id': '6e61e1c2-beba-4295-8d20-38c28ee33f39'}, {'x': 34.0, 'y': 535.5, 'width': 66.0, 'height': 129.0, 'confidence': 0.8086346387863159, 'class': 'Roof', 'class_id': 0, 'detection_id': '1d9000bf-d5c8-4fd0-a5f8-f346cc7f3224'}, {'x': 28.0, 'y': 556.0, 'width': 56.0, 'height': 86.0, 'confidence': 0.4204465448856354, 'class': 'Roof Deck', 'class_id': 1, 'detection_id': '3b5fae44-1bc0-446b-98b3-7d490e7a6fff'}]}\n"
     ]
    }
   ],
   "source": [
    "import requests\n",
    "import base64\n",
    "\n",
    "# API endpoint and key\n",
    "api_url = \"https://detect.roboflow.com/roofrate/1\"\n",
    "api_key = \"Thgc4vyG9tPJVvZfXvhy\"\n",
    "\n",
    "# Path to the image\n",
    "image_path = \"/Users/mitchleahy/Documents/Projects/RoofData/data/south_boston_color/99 OLD HARBOR ST SOUTH BOSTON 2127.0.png\"\n",
    "\n",
    "# Encode the image in base64\n",
    "with open(image_path, \"rb\") as image_file:\n",
    "    image_base64 = base64.b64encode(image_file.read()).decode(\"utf-8\")\n",
    "\n",
    "# Make the POST request\n",
    "response = requests.post(\n",
    "    f\"{api_url}?api_key={api_key}\",\n",
    "    data=image_base64,\n",
    "    headers={\"Content-Type\": \"application/x-www-form-urlencoded\"}\n",
    ")\n",
    "\n",
    "# Check the response\n",
    "if response.status_code == 200:\n",
    "    print(\"Response:\", response.json())\n",
    "else:\n",
    "    print(\"Error:\", response.status_code, response.text)\n"
   ]
  },
  {
   "cell_type": "code",
   "execution_count": 40,
   "metadata": {},
   "outputs": [
    {
     "data": {
      "text/plain": [
       "{'inference_id': '1ce2e8b2-e403-4ba8-aee2-b3c1482b69ac',\n",
       " 'time': 0.056345417000102316,\n",
       " 'image': {'width': 600, 'height': 600},\n",
       " 'predictions': [{'x': 250.5,\n",
       "   'y': 238.0,\n",
       "   'width': 215.0,\n",
       "   'height': 114.0,\n",
       "   'confidence': 0.9084483981132507,\n",
       "   'class': 'Roof',\n",
       "   'class_id': 0,\n",
       "   'detection_id': '1cfbc393-4de2-4407-869b-583ed6d2f67f'},\n",
       "  {'x': 211.0,\n",
       "   'y': 92.0,\n",
       "   'width': 320.0,\n",
       "   'height': 144.0,\n",
       "   'confidence': 0.9038634896278381,\n",
       "   'class': 'Roof',\n",
       "   'class_id': 0,\n",
       "   'detection_id': '8db1d844-5ae3-4538-9eae-8bc52ef27668'},\n",
       "  {'x': 172.5,\n",
       "   'y': 433.0,\n",
       "   'width': 127.0,\n",
       "   'height': 106.0,\n",
       "   'confidence': 0.901659369468689,\n",
       "   'class': 'Roof Deck',\n",
       "   'class_id': 1,\n",
       "   'detection_id': '7b680558-f35d-45db-b9c2-155802a3e2ab'},\n",
       "  {'x': 221.5,\n",
       "   'y': 432.5,\n",
       "   'width': 295.0,\n",
       "   'height': 145.0,\n",
       "   'confidence': 0.8907272815704346,\n",
       "   'class': 'Roof',\n",
       "   'class_id': 0,\n",
       "   'detection_id': '9b749786-2b82-4c56-826b-1b7923a4a1a0'},\n",
       "  {'x': 227.0,\n",
       "   'y': 565.5,\n",
       "   'width': 298.0,\n",
       "   'height': 69.0,\n",
       "   'confidence': 0.8418359160423279,\n",
       "   'class': 'Roof',\n",
       "   'class_id': 0,\n",
       "   'detection_id': '6e61e1c2-beba-4295-8d20-38c28ee33f39'},\n",
       "  {'x': 34.0,\n",
       "   'y': 535.5,\n",
       "   'width': 66.0,\n",
       "   'height': 129.0,\n",
       "   'confidence': 0.8086346387863159,\n",
       "   'class': 'Roof',\n",
       "   'class_id': 0,\n",
       "   'detection_id': '1d9000bf-d5c8-4fd0-a5f8-f346cc7f3224'},\n",
       "  {'x': 28.0,\n",
       "   'y': 556.0,\n",
       "   'width': 56.0,\n",
       "   'height': 86.0,\n",
       "   'confidence': 0.4204465448856354,\n",
       "   'class': 'Roof Deck',\n",
       "   'class_id': 1,\n",
       "   'detection_id': '3b5fae44-1bc0-446b-98b3-7d490e7a6fff'}]}"
      ]
     },
     "execution_count": 40,
     "metadata": {},
     "output_type": "execute_result"
    }
   ],
   "source": [
    "response.json()"
   ]
  },
  {
   "cell_type": "code",
   "execution_count": 1,
   "metadata": {},
   "outputs": [
    {
     "name": "stdout",
     "output_type": "stream",
     "text": [
      "Project Details: {'workspace': {'name': '', 'url': 'project'}, 'project': {'id': 'project/roofrate', 'type': 'object-detection', 'name': 'RoofRate', 'created': 1732651872.893, 'updated': 1732655718.604, 'images': 309, 'unannotated': 0, 'annotation': 'Roofs', 'versions': 1, 'public': True, 'license': 'MIT', 'splits': {'valid': 66, 'test': 29, 'train': 214}, 'colors': {'Roof': '#00FFCE', 'Roof Deck': '#FE0056'}, 'classes': {'Roof': 1252, 'Roof Deck': 273}, 'icon': {'original': 'https://source.roboflow.com/evrUBGuuvAMM0c6nKneh2h8EAse2/zxjg0dcwr41gXJ6hyQjj/original.jpg', 'thumb': 'https://source.roboflow.com/evrUBGuuvAMM0c6nKneh2h8EAse2/zxjg0dcwr41gXJ6hyQjj/thumb.jpg', 'annotation': 'https://source.roboflow.com/evrUBGuuvAMM0c6nKneh2h8EAse2/zxjg0dcwr41gXJ6hyQjj/annotation-Roofs.png'}, 'preprocessing': {'auto-orient': True, 'resize': {'format': 'Stretch to', 'height': 640, 'width': 640}}, 'augmentation': {}}, 'versions': [{'id': 'project/roofrate/1', 'name': '2024-11-26 4:15pm', 'created': 1732655718.603, 'images': 3949, 'splits': {'valid': 824, 'test': 409, 'train': 2716}, 'model': {'id': 'roofrate/1', 'endpoint': 'https://detect.roboflow.com/roofrate/1', 'start': 1735598492.206, 'end': 1735617549.572, 'fromScratch': False, 'tfjs': True, 'oak': True, 'map': '72.45', 'recall': '75.90', 'precision': '70.05'}, 'preprocessing': {'auto-orient': True, 'resize': {'format': 'Stretch to', 'height': 640, 'width': 640}}, 'augmentation': {}, 'exports': ['yolov5pytorch', 'yolov8']}]}\n"
     ]
    }
   ],
   "source": [
    "import requests\n",
    "import dotenv\n",
    "workspace = \"project\"\n",
    "project = \"roofrate\"\n",
    "api_key = dotenv.get_key(dotenv.find_dotenv(), \"ROBOFLOW_API_KEY\")\n",
    "\n",
    "# Construct the URL\n",
    "url = f\"https://api.roboflow.com/{workspace}/{project}?api_key={api_key}\"\n",
    "\n",
    "# Make the GET request\n",
    "response = requests.get(url)\n",
    "if response.status_code == 200:\n",
    "    print(\"Project Details:\", response.json())\n",
    "else:\n",
    "    print(f\"Error: {response.status_code}, {response.text}\")"
   ]
  },
  {
   "cell_type": "code",
   "execution_count": 2,
   "metadata": {},
   "outputs": [],
   "source": [
    "from src.app.model import Yolov8RoboflowModel\n",
    "\n",
    "project = Yolov8RoboflowModel(api_key=api_key, workspace_id=workspace, project_id=project,model_version='1')"
   ]
  },
  {
   "cell_type": "code",
   "execution_count": 3,
   "metadata": {},
   "outputs": [
    {
     "data": {
      "text/plain": [
       "{'inference_id': 'a5c1b091-22f2-49ea-93be-4cf54fdab38f',\n",
       " 'time': 0.07251146799990238,\n",
       " 'image': {'width': 600, 'height': 600},\n",
       " 'predictions': [{'x': 250.5,\n",
       "   'y': 238.0,\n",
       "   'width': 215.0,\n",
       "   'height': 114.0,\n",
       "   'confidence': 0.9084483981132507,\n",
       "   'class': 'Roof',\n",
       "   'class_id': 0,\n",
       "   'detection_id': '0178a951-cf51-4021-8b07-8b37b1a5c53d'},\n",
       "  {'x': 211.0,\n",
       "   'y': 92.0,\n",
       "   'width': 320.0,\n",
       "   'height': 144.0,\n",
       "   'confidence': 0.9038634896278381,\n",
       "   'class': 'Roof',\n",
       "   'class_id': 0,\n",
       "   'detection_id': '9e0202dd-9ea3-4dac-aa13-0dd8c14d0039'},\n",
       "  {'x': 172.5,\n",
       "   'y': 433.0,\n",
       "   'width': 127.0,\n",
       "   'height': 106.0,\n",
       "   'confidence': 0.901659369468689,\n",
       "   'class': 'Roof Deck',\n",
       "   'class_id': 1,\n",
       "   'detection_id': 'ead7dd30-4ff7-4a05-9a43-1a5f3678c229'},\n",
       "  {'x': 221.5,\n",
       "   'y': 432.5,\n",
       "   'width': 295.0,\n",
       "   'height': 145.0,\n",
       "   'confidence': 0.8907272815704346,\n",
       "   'class': 'Roof',\n",
       "   'class_id': 0,\n",
       "   'detection_id': 'db7b1837-a3d0-40bf-a62b-7ea7a5bd2fa3'},\n",
       "  {'x': 227.0,\n",
       "   'y': 565.5,\n",
       "   'width': 298.0,\n",
       "   'height': 69.0,\n",
       "   'confidence': 0.8418359160423279,\n",
       "   'class': 'Roof',\n",
       "   'class_id': 0,\n",
       "   'detection_id': '95af4b0f-4b7f-4526-8c52-c7199c459da9'},\n",
       "  {'x': 34.0,\n",
       "   'y': 535.5,\n",
       "   'width': 66.0,\n",
       "   'height': 129.0,\n",
       "   'confidence': 0.8086346387863159,\n",
       "   'class': 'Roof',\n",
       "   'class_id': 0,\n",
       "   'detection_id': 'a60b9bac-a557-4bd1-9b56-410e81ca336a'},\n",
       "  {'x': 28.0,\n",
       "   'y': 556.0,\n",
       "   'width': 56.0,\n",
       "   'height': 86.0,\n",
       "   'confidence': 0.4204465448856354,\n",
       "   'class': 'Roof Deck',\n",
       "   'class_id': 1,\n",
       "   'detection_id': '1df27248-532d-4411-b87a-3baed507c1ef'}]}"
      ]
     },
     "execution_count": 3,
     "metadata": {},
     "output_type": "execute_result"
    }
   ],
   "source": [
    "project.get_roof_detections(\"/Users/mitchleahy/Documents/Projects/RoofData/data/south_boston_color/99 OLD HARBOR ST SOUTH BOSTON 2127.0.png\")"
   ]
  },
  {
   "cell_type": "code",
   "execution_count": 7,
   "metadata": {},
   "outputs": [
    {
     "data": {
      "text/plain": [
       "'https://detect.roboflow.com/roofrate'"
      ]
     },
     "execution_count": 7,
     "metadata": {},
     "output_type": "execute_result"
    }
   ],
   "source": [
    "project.roboflow_project['versions'][-1]['model']['endpoint'].rsplit('/', 1)[0]"
   ]
  },
  {
   "cell_type": "code",
   "execution_count": null,
   "metadata": {},
   "outputs": [],
   "source": []
  }
 ],
 "metadata": {
  "kernelspec": {
   "display_name": "py",
   "language": "python",
   "name": "python3"
  },
  "language_info": {
   "codemirror_mode": {
    "name": "ipython",
    "version": 3
   },
   "file_extension": ".py",
   "mimetype": "text/x-python",
   "name": "python",
   "nbconvert_exporter": "python",
   "pygments_lexer": "ipython3",
   "version": "3.11.3"
  }
 },
 "nbformat": 4,
 "nbformat_minor": 2
}
