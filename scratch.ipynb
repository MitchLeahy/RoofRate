{
 "cells": [
  {
   "cell_type": "code",
   "execution_count": 6,
   "metadata": {},
   "outputs": [],
   "source": [
    "import roboflow\n",
    "import dotenv"
   ]
  },
  {
   "cell_type": "code",
   "execution_count": null,
   "metadata": {},
   "outputs": [],
   "source": []
  },
  {
   "cell_type": "code",
   "execution_count": 31,
   "metadata": {},
   "outputs": [
    {
     "ename": "ModuleNotFoundError",
     "evalue": "No module named 'azure'",
     "output_type": "error",
     "traceback": [
      "\u001b[0;31m---------------------------------------------------------------------------\u001b[0m",
      "\u001b[0;31mModuleNotFoundError\u001b[0m                       Traceback (most recent call last)",
      "Cell \u001b[0;32mIn[31], line 1\u001b[0m\n\u001b[0;32m----> 1\u001b[0m \u001b[38;5;28;01mfrom\u001b[39;00m \u001b[38;5;21;01msrc\u001b[39;00m\u001b[38;5;21;01m.\u001b[39;00m\u001b[38;5;21;01mapp\u001b[39;00m\u001b[38;5;21;01m.\u001b[39;00m\u001b[38;5;21;01mutils\u001b[39;00m \u001b[38;5;28;01mimport\u001b[39;00m yolo_detect_roboflow\n",
      "File \u001b[0;32m~/Documents/Projects/RoofRate/RoofRate/src/app/utils.py:1\u001b[0m\n\u001b[0;32m----> 1\u001b[0m \u001b[38;5;28;01mfrom\u001b[39;00m \u001b[38;5;21;01mazure\u001b[39;00m\u001b[38;5;21;01m.\u001b[39;00m\u001b[38;5;21;01mstorage\u001b[39;00m\u001b[38;5;21;01m.\u001b[39;00m\u001b[38;5;21;01mblob\u001b[39;00m \u001b[38;5;28;01mimport\u001b[39;00m BlobClient, ContentSettings, BlobServiceClient\n\u001b[1;32m      2\u001b[0m \u001b[38;5;28;01mfrom\u001b[39;00m \u001b[38;5;21;01mPIL\u001b[39;00m \u001b[38;5;28;01mimport\u001b[39;00m Image\n\u001b[1;32m      3\u001b[0m \u001b[38;5;28;01mimport\u001b[39;00m \u001b[38;5;21;01mnumpy\u001b[39;00m \u001b[38;5;28;01mas\u001b[39;00m \u001b[38;5;21;01mnp\u001b[39;00m\n",
      "\u001b[0;31mModuleNotFoundError\u001b[0m: No module named 'azure'"
     ]
    }
   ],
   "source": [
    "from src.app.utils import yolo_detect_roboflow"
   ]
  },
  {
   "cell_type": "code",
   "execution_count": null,
   "metadata": {},
   "outputs": [
    {
     "name": "stdout",
     "output_type": "stream",
     "text": [
      "loading Roboflow workspace...\n",
      "loading Roboflow project...\n"
     ]
    },
    {
     "data": {
      "text/plain": [
       "{'predictions': [{'x': 250.5,\n",
       "   'y': 238.0,\n",
       "   'width': 215.0,\n",
       "   'height': 114.0,\n",
       "   'confidence': 0.9084483981132507,\n",
       "   'class': 'Roof',\n",
       "   'class_id': 0,\n",
       "   'detection_id': '5bdc91ea-cd58-455e-82ca-c23d9cb7f6ea',\n",
       "   'image_path': '/Users/mitchleahy/Documents/Projects/RoofData/data/south_boston_color/99 OLD HARBOR ST SOUTH BOSTON 2127.0.png',\n",
       "   'prediction_type': 'ObjectDetectionModel'},\n",
       "  {'x': 211.0,\n",
       "   'y': 92.0,\n",
       "   'width': 320.0,\n",
       "   'height': 144.0,\n",
       "   'confidence': 0.9038634896278381,\n",
       "   'class': 'Roof',\n",
       "   'class_id': 0,\n",
       "   'detection_id': 'd1562ae4-7b27-4164-b93d-94ae75361e56',\n",
       "   'image_path': '/Users/mitchleahy/Documents/Projects/RoofData/data/south_boston_color/99 OLD HARBOR ST SOUTH BOSTON 2127.0.png',\n",
       "   'prediction_type': 'ObjectDetectionModel'},\n",
       "  {'x': 172.5,\n",
       "   'y': 433.0,\n",
       "   'width': 127.0,\n",
       "   'height': 106.0,\n",
       "   'confidence': 0.901659369468689,\n",
       "   'class': 'Roof Deck',\n",
       "   'class_id': 1,\n",
       "   'detection_id': '2eb99c5f-bee9-4525-92ee-a2a9ad6a4e17',\n",
       "   'image_path': '/Users/mitchleahy/Documents/Projects/RoofData/data/south_boston_color/99 OLD HARBOR ST SOUTH BOSTON 2127.0.png',\n",
       "   'prediction_type': 'ObjectDetectionModel'},\n",
       "  {'x': 221.5,\n",
       "   'y': 432.5,\n",
       "   'width': 295.0,\n",
       "   'height': 145.0,\n",
       "   'confidence': 0.8907272815704346,\n",
       "   'class': 'Roof',\n",
       "   'class_id': 0,\n",
       "   'detection_id': '7040f4c9-e1ba-4b50-87b1-5f184633616a',\n",
       "   'image_path': '/Users/mitchleahy/Documents/Projects/RoofData/data/south_boston_color/99 OLD HARBOR ST SOUTH BOSTON 2127.0.png',\n",
       "   'prediction_type': 'ObjectDetectionModel'},\n",
       "  {'x': 227.0,\n",
       "   'y': 565.5,\n",
       "   'width': 298.0,\n",
       "   'height': 69.0,\n",
       "   'confidence': 0.8418359160423279,\n",
       "   'class': 'Roof',\n",
       "   'class_id': 0,\n",
       "   'detection_id': '0e2493d2-ab63-49b4-a74f-fc9b94a94ba5',\n",
       "   'image_path': '/Users/mitchleahy/Documents/Projects/RoofData/data/south_boston_color/99 OLD HARBOR ST SOUTH BOSTON 2127.0.png',\n",
       "   'prediction_type': 'ObjectDetectionModel'},\n",
       "  {'x': 34.0,\n",
       "   'y': 535.5,\n",
       "   'width': 66.0,\n",
       "   'height': 129.0,\n",
       "   'confidence': 0.8086346387863159,\n",
       "   'class': 'Roof',\n",
       "   'class_id': 0,\n",
       "   'detection_id': '073075b3-b3b8-4c46-bc13-d9fe69ec2786',\n",
       "   'image_path': '/Users/mitchleahy/Documents/Projects/RoofData/data/south_boston_color/99 OLD HARBOR ST SOUTH BOSTON 2127.0.png',\n",
       "   'prediction_type': 'ObjectDetectionModel'},\n",
       "  {'x': 28.0,\n",
       "   'y': 556.0,\n",
       "   'width': 56.0,\n",
       "   'height': 86.0,\n",
       "   'confidence': 0.4204465448856354,\n",
       "   'class': 'Roof Deck',\n",
       "   'class_id': 1,\n",
       "   'detection_id': 'eb1a329a-7860-4f25-9835-2eb726da6103',\n",
       "   'image_path': '/Users/mitchleahy/Documents/Projects/RoofData/data/south_boston_color/99 OLD HARBOR ST SOUTH BOSTON 2127.0.png',\n",
       "   'prediction_type': 'ObjectDetectionModel'}],\n",
       " 'image': {'width': '600', 'height': '600'}}"
      ]
     },
     "execution_count": 46,
     "metadata": {},
     "output_type": "execute_result"
    }
   ],
   "source": [
    "api_key = dotenv.get_key(dotenv.find_dotenv(), \"ROBOFLOW_API_KEY\")\n",
    "rf = roboflow.Roboflow(api_key=api_key)\n",
    "project = rf.workspace().project(\"roofrate\")\n",
    "versions = project.versions()\n",
    "VERSION_ID = versions[0].version\n",
    "\n",
    "model = project.version(VERSION_ID).model\n",
    "results = model.predict(\"/Users/mitchleahy/Documents/Projects/RoofData/data/south_boston_color/99 OLD HARBOR ST SOUTH BOSTON 2127.0.png\")\n",
    "results.json()\n"
   ]
  },
  {
   "cell_type": "code",
   "execution_count": 27,
   "metadata": {},
   "outputs": [],
   "source": [
    "\n",
    "\n",
    "# infer on a local image\n",
    "results = model.predict(\"/Users/mitchleahy/Documents/Projects/RoofData/data/south_boston_color/99 OLD HARBOR ST SOUTH BOSTON 2127.0.png\",format=\"json\")"
   ]
  },
  {
   "cell_type": "code",
   "execution_count": 30,
   "metadata": {},
   "outputs": [
    {
     "data": {
      "text/plain": [
       "{'predictions': [{'x': 250.5,\n",
       "   'y': 238.0,\n",
       "   'width': 215.0,\n",
       "   'height': 114.0,\n",
       "   'confidence': 0.9084483981132507,\n",
       "   'class': 'Roof',\n",
       "   'class_id': 0,\n",
       "   'detection_id': 'f11da468-c1c5-47dc-92e8-e836b446fbb9',\n",
       "   'image_path': '/Users/mitchleahy/Documents/Projects/RoofData/data/south_boston_color/99 OLD HARBOR ST SOUTH BOSTON 2127.0.png',\n",
       "   'prediction_type': 'ObjectDetectionModel'},\n",
       "  {'x': 211.0,\n",
       "   'y': 92.0,\n",
       "   'width': 320.0,\n",
       "   'height': 144.0,\n",
       "   'confidence': 0.9038634896278381,\n",
       "   'class': 'Roof',\n",
       "   'class_id': 0,\n",
       "   'detection_id': '0011d17b-2f4c-4919-b473-24d35490042d',\n",
       "   'image_path': '/Users/mitchleahy/Documents/Projects/RoofData/data/south_boston_color/99 OLD HARBOR ST SOUTH BOSTON 2127.0.png',\n",
       "   'prediction_type': 'ObjectDetectionModel'},\n",
       "  {'x': 172.5,\n",
       "   'y': 433.0,\n",
       "   'width': 127.0,\n",
       "   'height': 106.0,\n",
       "   'confidence': 0.901659369468689,\n",
       "   'class': 'Roof Deck',\n",
       "   'class_id': 1,\n",
       "   'detection_id': '49940ac9-7c22-49a1-b29d-2e9aa267d0dc',\n",
       "   'image_path': '/Users/mitchleahy/Documents/Projects/RoofData/data/south_boston_color/99 OLD HARBOR ST SOUTH BOSTON 2127.0.png',\n",
       "   'prediction_type': 'ObjectDetectionModel'},\n",
       "  {'x': 221.5,\n",
       "   'y': 432.5,\n",
       "   'width': 295.0,\n",
       "   'height': 145.0,\n",
       "   'confidence': 0.8907272815704346,\n",
       "   'class': 'Roof',\n",
       "   'class_id': 0,\n",
       "   'detection_id': '7ef51331-c92b-4093-ab76-50468dd15f6c',\n",
       "   'image_path': '/Users/mitchleahy/Documents/Projects/RoofData/data/south_boston_color/99 OLD HARBOR ST SOUTH BOSTON 2127.0.png',\n",
       "   'prediction_type': 'ObjectDetectionModel'},\n",
       "  {'x': 227.0,\n",
       "   'y': 565.5,\n",
       "   'width': 298.0,\n",
       "   'height': 69.0,\n",
       "   'confidence': 0.8418359160423279,\n",
       "   'class': 'Roof',\n",
       "   'class_id': 0,\n",
       "   'detection_id': '97bbab2f-cffd-43d7-8fe7-8e3ddab7327c',\n",
       "   'image_path': '/Users/mitchleahy/Documents/Projects/RoofData/data/south_boston_color/99 OLD HARBOR ST SOUTH BOSTON 2127.0.png',\n",
       "   'prediction_type': 'ObjectDetectionModel'},\n",
       "  {'x': 34.0,\n",
       "   'y': 535.5,\n",
       "   'width': 66.0,\n",
       "   'height': 129.0,\n",
       "   'confidence': 0.8086346387863159,\n",
       "   'class': 'Roof',\n",
       "   'class_id': 0,\n",
       "   'detection_id': '7414e2fd-e9d3-43d9-b7e2-9d62e13e620b',\n",
       "   'image_path': '/Users/mitchleahy/Documents/Projects/RoofData/data/south_boston_color/99 OLD HARBOR ST SOUTH BOSTON 2127.0.png',\n",
       "   'prediction_type': 'ObjectDetectionModel'},\n",
       "  {'x': 28.0,\n",
       "   'y': 556.0,\n",
       "   'width': 56.0,\n",
       "   'height': 86.0,\n",
       "   'confidence': 0.4204465448856354,\n",
       "   'class': 'Roof Deck',\n",
       "   'class_id': 1,\n",
       "   'detection_id': '7ab5955b-d36d-4d2b-8e32-36d2067cae57',\n",
       "   'image_path': '/Users/mitchleahy/Documents/Projects/RoofData/data/south_boston_color/99 OLD HARBOR ST SOUTH BOSTON 2127.0.png',\n",
       "   'prediction_type': 'ObjectDetectionModel'}],\n",
       " 'image': {'width': '600', 'height': '600'}}"
      ]
     },
     "execution_count": 30,
     "metadata": {},
     "output_type": "execute_result"
    }
   ],
   "source": [
    "results.json()\n"
   ]
  },
  {
   "cell_type": "code",
   "execution_count": 33,
   "metadata": {},
   "outputs": [
    {
     "name": "stdout",
     "output_type": "stream",
     "text": [
      "Response: {'inference_id': '1ce2e8b2-e403-4ba8-aee2-b3c1482b69ac', 'time': 0.056345417000102316, 'image': {'width': 600, 'height': 600}, 'predictions': [{'x': 250.5, 'y': 238.0, 'width': 215.0, 'height': 114.0, 'confidence': 0.9084483981132507, 'class': 'Roof', 'class_id': 0, 'detection_id': '1cfbc393-4de2-4407-869b-583ed6d2f67f'}, {'x': 211.0, 'y': 92.0, 'width': 320.0, 'height': 144.0, 'confidence': 0.9038634896278381, 'class': 'Roof', 'class_id': 0, 'detection_id': '8db1d844-5ae3-4538-9eae-8bc52ef27668'}, {'x': 172.5, 'y': 433.0, 'width': 127.0, 'height': 106.0, 'confidence': 0.901659369468689, 'class': 'Roof Deck', 'class_id': 1, 'detection_id': '7b680558-f35d-45db-b9c2-155802a3e2ab'}, {'x': 221.5, 'y': 432.5, 'width': 295.0, 'height': 145.0, 'confidence': 0.8907272815704346, 'class': 'Roof', 'class_id': 0, 'detection_id': '9b749786-2b82-4c56-826b-1b7923a4a1a0'}, {'x': 227.0, 'y': 565.5, 'width': 298.0, 'height': 69.0, 'confidence': 0.8418359160423279, 'class': 'Roof', 'class_id': 0, 'detection_id': '6e61e1c2-beba-4295-8d20-38c28ee33f39'}, {'x': 34.0, 'y': 535.5, 'width': 66.0, 'height': 129.0, 'confidence': 0.8086346387863159, 'class': 'Roof', 'class_id': 0, 'detection_id': '1d9000bf-d5c8-4fd0-a5f8-f346cc7f3224'}, {'x': 28.0, 'y': 556.0, 'width': 56.0, 'height': 86.0, 'confidence': 0.4204465448856354, 'class': 'Roof Deck', 'class_id': 1, 'detection_id': '3b5fae44-1bc0-446b-98b3-7d490e7a6fff'}]}\n"
     ]
    }
   ],
   "source": [
    "import requests\n",
    "import base64\n",
    "\n",
    "# API endpoint and key\n",
    "api_url = \"https://detect.roboflow.com/roofrate/1\"\n",
    "api_key = \"Thgc4vyG9tPJVvZfXvhy\"\n",
    "\n",
    "# Path to the image\n",
    "image_path = \"/Users/mitchleahy/Documents/Projects/RoofData/data/south_boston_color/99 OLD HARBOR ST SOUTH BOSTON 2127.0.png\"\n",
    "\n",
    "# Encode the image in base64\n",
    "with open(image_path, \"rb\") as image_file:\n",
    "    image_base64 = base64.b64encode(image_file.read()).decode(\"utf-8\")\n",
    "\n",
    "# Make the POST request\n",
    "response = requests.post(\n",
    "    f\"{api_url}?api_key={api_key}\",\n",
    "    data=image_base64,\n",
    "    headers={\"Content-Type\": \"application/x-www-form-urlencoded\"}\n",
    ")\n",
    "\n",
    "# Check the response\n",
    "if response.status_code == 200:\n",
    "    print(\"Response:\", response.json())\n",
    "else:\n",
    "    print(\"Error:\", response.status_code, response.text)\n"
   ]
  },
  {
   "cell_type": "code",
   "execution_count": 40,
   "metadata": {},
   "outputs": [
    {
     "data": {
      "text/plain": [
       "{'inference_id': '1ce2e8b2-e403-4ba8-aee2-b3c1482b69ac',\n",
       " 'time': 0.056345417000102316,\n",
       " 'image': {'width': 600, 'height': 600},\n",
       " 'predictions': [{'x': 250.5,\n",
       "   'y': 238.0,\n",
       "   'width': 215.0,\n",
       "   'height': 114.0,\n",
       "   'confidence': 0.9084483981132507,\n",
       "   'class': 'Roof',\n",
       "   'class_id': 0,\n",
       "   'detection_id': '1cfbc393-4de2-4407-869b-583ed6d2f67f'},\n",
       "  {'x': 211.0,\n",
       "   'y': 92.0,\n",
       "   'width': 320.0,\n",
       "   'height': 144.0,\n",
       "   'confidence': 0.9038634896278381,\n",
       "   'class': 'Roof',\n",
       "   'class_id': 0,\n",
       "   'detection_id': '8db1d844-5ae3-4538-9eae-8bc52ef27668'},\n",
       "  {'x': 172.5,\n",
       "   'y': 433.0,\n",
       "   'width': 127.0,\n",
       "   'height': 106.0,\n",
       "   'confidence': 0.901659369468689,\n",
       "   'class': 'Roof Deck',\n",
       "   'class_id': 1,\n",
       "   'detection_id': '7b680558-f35d-45db-b9c2-155802a3e2ab'},\n",
       "  {'x': 221.5,\n",
       "   'y': 432.5,\n",
       "   'width': 295.0,\n",
       "   'height': 145.0,\n",
       "   'confidence': 0.8907272815704346,\n",
       "   'class': 'Roof',\n",
       "   'class_id': 0,\n",
       "   'detection_id': '9b749786-2b82-4c56-826b-1b7923a4a1a0'},\n",
       "  {'x': 227.0,\n",
       "   'y': 565.5,\n",
       "   'width': 298.0,\n",
       "   'height': 69.0,\n",
       "   'confidence': 0.8418359160423279,\n",
       "   'class': 'Roof',\n",
       "   'class_id': 0,\n",
       "   'detection_id': '6e61e1c2-beba-4295-8d20-38c28ee33f39'},\n",
       "  {'x': 34.0,\n",
       "   'y': 535.5,\n",
       "   'width': 66.0,\n",
       "   'height': 129.0,\n",
       "   'confidence': 0.8086346387863159,\n",
       "   'class': 'Roof',\n",
       "   'class_id': 0,\n",
       "   'detection_id': '1d9000bf-d5c8-4fd0-a5f8-f346cc7f3224'},\n",
       "  {'x': 28.0,\n",
       "   'y': 556.0,\n",
       "   'width': 56.0,\n",
       "   'height': 86.0,\n",
       "   'confidence': 0.4204465448856354,\n",
       "   'class': 'Roof Deck',\n",
       "   'class_id': 1,\n",
       "   'detection_id': '3b5fae44-1bc0-446b-98b3-7d490e7a6fff'}]}"
      ]
     },
     "execution_count": 40,
     "metadata": {},
     "output_type": "execute_result"
    }
   ],
   "source": [
    "response.json()"
   ]
  },
  {
   "cell_type": "code",
   "execution_count": 1,
   "metadata": {},
   "outputs": [
    {
     "name": "stdout",
     "output_type": "stream",
     "text": [
      "Project Details: {'workspace': {'name': '', 'url': 'project'}, 'project': {'id': 'project/roofrate', 'type': 'object-detection', 'name': 'RoofRate', 'created': 1732651872.893, 'updated': 1732655718.604, 'images': 309, 'unannotated': 0, 'annotation': 'Roofs', 'versions': 1, 'public': True, 'license': 'MIT', 'splits': {'valid': 66, 'test': 29, 'train': 214}, 'colors': {'Roof': '#00FFCE', 'Roof Deck': '#FE0056'}, 'classes': {'Roof': 1252, 'Roof Deck': 273}, 'icon': {'original': 'https://source.roboflow.com/evrUBGuuvAMM0c6nKneh2h8EAse2/zxjg0dcwr41gXJ6hyQjj/original.jpg', 'thumb': 'https://source.roboflow.com/evrUBGuuvAMM0c6nKneh2h8EAse2/zxjg0dcwr41gXJ6hyQjj/thumb.jpg', 'annotation': 'https://source.roboflow.com/evrUBGuuvAMM0c6nKneh2h8EAse2/zxjg0dcwr41gXJ6hyQjj/annotation-Roofs.png'}, 'preprocessing': {'auto-orient': True, 'resize': {'format': 'Stretch to', 'height': 640, 'width': 640}}, 'augmentation': {}}, 'versions': [{'id': 'project/roofrate/1', 'name': '2024-11-26 4:15pm', 'created': 1732655718.603, 'images': 3949, 'splits': {'valid': 824, 'test': 409, 'train': 2716}, 'model': {'id': 'roofrate/1', 'endpoint': 'https://detect.roboflow.com/roofrate/1', 'start': 1735598492.206, 'end': 1735617549.572, 'fromScratch': False, 'tfjs': True, 'oak': True, 'map': '72.45', 'recall': '75.90', 'precision': '70.05'}, 'preprocessing': {'auto-orient': True, 'resize': {'format': 'Stretch to', 'height': 640, 'width': 640}}, 'augmentation': {}, 'exports': ['yolov5pytorch', 'yolov8']}]}\n"
     ]
    }
   ],
   "source": [
    "import requests\n",
    "import dotenv\n",
    "workspace = \"project\"\n",
    "project = \"roofrate\"\n",
    "api_key = dotenv.get_key(dotenv.find_dotenv(), \"ROBOFLOW_API_KEY\")\n",
    "\n",
    "# Construct the URL\n",
    "url = f\"https://api.roboflow.com/{workspace}/{project}?api_key={api_key}\"\n",
    "\n",
    "# Make the GET request\n",
    "response = requests.get(url)\n",
    "if response.status_code == 200:\n",
    "    print(\"Project Details:\", response.json())\n",
    "else:\n",
    "    print(f\"Error: {response.status_code}, {response.text}\")"
   ]
  },
  {
   "cell_type": "code",
   "execution_count": 2,
   "metadata": {},
   "outputs": [],
   "source": [
    "from src.app.model import Yolov8RoboflowModel\n",
    "\n",
    "project = Yolov8RoboflowModel(api_key=api_key, workspace_id=workspace, project_id=project,model_version='1')"
   ]
  },
  {
   "cell_type": "code",
   "execution_count": 3,
   "metadata": {},
   "outputs": [
    {
     "data": {
      "text/plain": [
       "{'inference_id': 'a5c1b091-22f2-49ea-93be-4cf54fdab38f',\n",
       " 'time': 0.07251146799990238,\n",
       " 'image': {'width': 600, 'height': 600},\n",
       " 'predictions': [{'x': 250.5,\n",
       "   'y': 238.0,\n",
       "   'width': 215.0,\n",
       "   'height': 114.0,\n",
       "   'confidence': 0.9084483981132507,\n",
       "   'class': 'Roof',\n",
       "   'class_id': 0,\n",
       "   'detection_id': '0178a951-cf51-4021-8b07-8b37b1a5c53d'},\n",
       "  {'x': 211.0,\n",
       "   'y': 92.0,\n",
       "   'width': 320.0,\n",
       "   'height': 144.0,\n",
       "   'confidence': 0.9038634896278381,\n",
       "   'class': 'Roof',\n",
       "   'class_id': 0,\n",
       "   'detection_id': '9e0202dd-9ea3-4dac-aa13-0dd8c14d0039'},\n",
       "  {'x': 172.5,\n",
       "   'y': 433.0,\n",
       "   'width': 127.0,\n",
       "   'height': 106.0,\n",
       "   'confidence': 0.901659369468689,\n",
       "   'class': 'Roof Deck',\n",
       "   'class_id': 1,\n",
       "   'detection_id': 'ead7dd30-4ff7-4a05-9a43-1a5f3678c229'},\n",
       "  {'x': 221.5,\n",
       "   'y': 432.5,\n",
       "   'width': 295.0,\n",
       "   'height': 145.0,\n",
       "   'confidence': 0.8907272815704346,\n",
       "   'class': 'Roof',\n",
       "   'class_id': 0,\n",
       "   'detection_id': 'db7b1837-a3d0-40bf-a62b-7ea7a5bd2fa3'},\n",
       "  {'x': 227.0,\n",
       "   'y': 565.5,\n",
       "   'width': 298.0,\n",
       "   'height': 69.0,\n",
       "   'confidence': 0.8418359160423279,\n",
       "   'class': 'Roof',\n",
       "   'class_id': 0,\n",
       "   'detection_id': '95af4b0f-4b7f-4526-8c52-c7199c459da9'},\n",
       "  {'x': 34.0,\n",
       "   'y': 535.5,\n",
       "   'width': 66.0,\n",
       "   'height': 129.0,\n",
       "   'confidence': 0.8086346387863159,\n",
       "   'class': 'Roof',\n",
       "   'class_id': 0,\n",
       "   'detection_id': 'a60b9bac-a557-4bd1-9b56-410e81ca336a'},\n",
       "  {'x': 28.0,\n",
       "   'y': 556.0,\n",
       "   'width': 56.0,\n",
       "   'height': 86.0,\n",
       "   'confidence': 0.4204465448856354,\n",
       "   'class': 'Roof Deck',\n",
       "   'class_id': 1,\n",
       "   'detection_id': '1df27248-532d-4411-b87a-3baed507c1ef'}]}"
      ]
     },
     "execution_count": 3,
     "metadata": {},
     "output_type": "execute_result"
    }
   ],
   "source": [
    "project.get_roof_detections(\"/Users/mitchleahy/Documents/Projects/RoofData/data/south_boston_color/99 OLD HARBOR ST SOUTH BOSTON 2127.0.png\")"
   ]
  },
  {
   "cell_type": "code",
   "execution_count": 7,
   "metadata": {},
   "outputs": [
    {
     "data": {
      "text/plain": [
       "'https://detect.roboflow.com/roofrate'"
      ]
     },
     "execution_count": 7,
     "metadata": {},
     "output_type": "execute_result"
    }
   ],
   "source": [
    "project.roboflow_project['versions'][-1]['model']['endpoint'].rsplit('/', 1)[0]"
   ]
  },
  {
   "cell_type": "code",
   "execution_count": 8,
   "metadata": {},
   "outputs": [
    {
     "data": {
      "text/html": [
       "<div>\n",
       "<style scoped>\n",
       "    .dataframe tbody tr th:only-of-type {\n",
       "        vertical-align: middle;\n",
       "    }\n",
       "\n",
       "    .dataframe tbody tr th {\n",
       "        vertical-align: top;\n",
       "    }\n",
       "\n",
       "    .dataframe thead th {\n",
       "        text-align: right;\n",
       "    }\n",
       "</style>\n",
       "<table border=\"1\" class=\"dataframe\">\n",
       "  <thead>\n",
       "    <tr style=\"text-align: right;\">\n",
       "      <th></th>\n",
       "      <th>address</th>\n",
       "      <th>map_image_url</th>\n",
       "      <th>annotated_image_url</th>\n",
       "      <th>cropped_image_url</th>\n",
       "      <th>labels</th>\n",
       "      <th>response</th>\n",
       "      <th>roof_detected</th>\n",
       "      <th>timestamp</th>\n",
       "      <th>ip_address</th>\n",
       "    </tr>\n",
       "  </thead>\n",
       "  <tbody>\n",
       "  </tbody>\n",
       "</table>\n",
       "</div>"
      ],
      "text/plain": [
       "Empty DataFrame\n",
       "Columns: [address, map_image_url, annotated_image_url, cropped_image_url, labels, response, roof_detected, timestamp, ip_address]\n",
       "Index: []"
      ]
     },
     "execution_count": 8,
     "metadata": {},
     "output_type": "execute_result"
    }
   ],
   "source": [
    "import pandas as pd\n",
    "\n",
    "# Create a DataFrame with the specified columns\n",
    "data = {\n",
    "    'address': [],\n",
    "    'map_image_url': [],\n",
    "    'annotated_image_url': [],\n",
    "    'cropped_image_url': [],\n",
    "    'labels': [],\n",
    "    'response': [],\n",
    "    'roof_detected': [],\n",
    "    'timestamp': [],  # Add the timestamp column\n",
    "    'ip_address': []  # Add the ip_address column\n",
    "}\n",
    "\n",
    "df = pd.DataFrame(data)\n",
    "df"
   ]
  },
  {
   "cell_type": "code",
   "execution_count": 10,
   "metadata": {},
   "outputs": [
    {
     "ename": "KeyboardInterrupt",
     "evalue": "",
     "output_type": "error",
     "traceback": [
      "\u001b[0;31m---------------------------------------------------------------------------\u001b[0m",
      "\u001b[0;31mServiceRequestError\u001b[0m                       Traceback (most recent call last)",
      "File \u001b[0;32m~/opt/anaconda3/envs/py/lib/python3.11/site-packages/azure/storage/blob/_shared/policies.py:527\u001b[0m, in \u001b[0;36mStorageRetryPolicy.send\u001b[0;34m(self, request)\u001b[0m\n\u001b[1;32m    526\u001b[0m \u001b[38;5;28;01mtry\u001b[39;00m:\n\u001b[0;32m--> 527\u001b[0m     response \u001b[38;5;241m=\u001b[39m \u001b[38;5;28mself\u001b[39m\u001b[38;5;241m.\u001b[39mnext\u001b[38;5;241m.\u001b[39msend(request)\n\u001b[1;32m    528\u001b[0m     \u001b[38;5;28;01mif\u001b[39;00m is_retry(response, retry_settings[\u001b[38;5;124m'\u001b[39m\u001b[38;5;124mmode\u001b[39m\u001b[38;5;124m'\u001b[39m]) \u001b[38;5;129;01mor\u001b[39;00m is_checksum_retry(response):\n",
      "File \u001b[0;32m~/opt/anaconda3/envs/py/lib/python3.11/site-packages/azure/core/pipeline/_base.py:96\u001b[0m, in \u001b[0;36m_SansIOHTTPPolicyRunner.send\u001b[0;34m(self, request)\u001b[0m\n\u001b[1;32m     95\u001b[0m \u001b[38;5;28;01mtry\u001b[39;00m:\n\u001b[0;32m---> 96\u001b[0m     response \u001b[38;5;241m=\u001b[39m \u001b[38;5;28mself\u001b[39m\u001b[38;5;241m.\u001b[39mnext\u001b[38;5;241m.\u001b[39msend(request)\n\u001b[1;32m     97\u001b[0m \u001b[38;5;28;01mexcept\u001b[39;00m \u001b[38;5;167;01mException\u001b[39;00m:\n",
      "File \u001b[0;32m~/opt/anaconda3/envs/py/lib/python3.11/site-packages/azure/core/pipeline/_base.py:96\u001b[0m, in \u001b[0;36m_SansIOHTTPPolicyRunner.send\u001b[0;34m(self, request)\u001b[0m\n\u001b[1;32m     95\u001b[0m \u001b[38;5;28;01mtry\u001b[39;00m:\n\u001b[0;32m---> 96\u001b[0m     response \u001b[38;5;241m=\u001b[39m \u001b[38;5;28mself\u001b[39m\u001b[38;5;241m.\u001b[39mnext\u001b[38;5;241m.\u001b[39msend(request)\n\u001b[1;32m     97\u001b[0m \u001b[38;5;28;01mexcept\u001b[39;00m \u001b[38;5;167;01mException\u001b[39;00m:\n",
      "File \u001b[0;32m~/opt/anaconda3/envs/py/lib/python3.11/site-packages/azure/core/pipeline/_base.py:96\u001b[0m, in \u001b[0;36m_SansIOHTTPPolicyRunner.send\u001b[0;34m(self, request)\u001b[0m\n\u001b[1;32m     95\u001b[0m \u001b[38;5;28;01mtry\u001b[39;00m:\n\u001b[0;32m---> 96\u001b[0m     response \u001b[38;5;241m=\u001b[39m \u001b[38;5;28mself\u001b[39m\u001b[38;5;241m.\u001b[39mnext\u001b[38;5;241m.\u001b[39msend(request)\n\u001b[1;32m     97\u001b[0m \u001b[38;5;28;01mexcept\u001b[39;00m \u001b[38;5;167;01mException\u001b[39;00m:\n",
      "File \u001b[0;32m~/opt/anaconda3/envs/py/lib/python3.11/site-packages/azure/storage/blob/_shared/policies.py:301\u001b[0m, in \u001b[0;36mStorageResponseHook.send\u001b[0;34m(self, request)\u001b[0m\n\u001b[1;32m    298\u001b[0m response_callback \u001b[38;5;241m=\u001b[39m request\u001b[38;5;241m.\u001b[39mcontext\u001b[38;5;241m.\u001b[39mget(\u001b[38;5;124m'\u001b[39m\u001b[38;5;124mresponse_callback\u001b[39m\u001b[38;5;124m'\u001b[39m) \u001b[38;5;129;01mor\u001b[39;00m \\\n\u001b[1;32m    299\u001b[0m     request\u001b[38;5;241m.\u001b[39mcontext\u001b[38;5;241m.\u001b[39moptions\u001b[38;5;241m.\u001b[39mpop(\u001b[38;5;124m'\u001b[39m\u001b[38;5;124mraw_response_hook\u001b[39m\u001b[38;5;124m'\u001b[39m, \u001b[38;5;28mself\u001b[39m\u001b[38;5;241m.\u001b[39m_response_callback)\n\u001b[0;32m--> 301\u001b[0m response \u001b[38;5;241m=\u001b[39m \u001b[38;5;28mself\u001b[39m\u001b[38;5;241m.\u001b[39mnext\u001b[38;5;241m.\u001b[39msend(request)\n\u001b[1;32m    303\u001b[0m will_retry \u001b[38;5;241m=\u001b[39m is_retry(response, request\u001b[38;5;241m.\u001b[39mcontext\u001b[38;5;241m.\u001b[39moptions\u001b[38;5;241m.\u001b[39mget(\u001b[38;5;124m'\u001b[39m\u001b[38;5;124mmode\u001b[39m\u001b[38;5;124m'\u001b[39m)) \u001b[38;5;129;01mor\u001b[39;00m is_checksum_retry(response)\n",
      "File \u001b[0;32m~/opt/anaconda3/envs/py/lib/python3.11/site-packages/azure/core/pipeline/_base.py:96\u001b[0m, in \u001b[0;36m_SansIOHTTPPolicyRunner.send\u001b[0;34m(self, request)\u001b[0m\n\u001b[1;32m     95\u001b[0m \u001b[38;5;28;01mtry\u001b[39;00m:\n\u001b[0;32m---> 96\u001b[0m     response \u001b[38;5;241m=\u001b[39m \u001b[38;5;28mself\u001b[39m\u001b[38;5;241m.\u001b[39mnext\u001b[38;5;241m.\u001b[39msend(request)\n\u001b[1;32m     97\u001b[0m \u001b[38;5;28;01mexcept\u001b[39;00m \u001b[38;5;167;01mException\u001b[39;00m:\n",
      "File \u001b[0;32m~/opt/anaconda3/envs/py/lib/python3.11/site-packages/azure/core/pipeline/_base.py:96\u001b[0m, in \u001b[0;36m_SansIOHTTPPolicyRunner.send\u001b[0;34m(self, request)\u001b[0m\n\u001b[1;32m     95\u001b[0m \u001b[38;5;28;01mtry\u001b[39;00m:\n\u001b[0;32m---> 96\u001b[0m     response \u001b[38;5;241m=\u001b[39m \u001b[38;5;28mself\u001b[39m\u001b[38;5;241m.\u001b[39mnext\u001b[38;5;241m.\u001b[39msend(request)\n\u001b[1;32m     97\u001b[0m \u001b[38;5;28;01mexcept\u001b[39;00m \u001b[38;5;167;01mException\u001b[39;00m:\n",
      "File \u001b[0;32m~/opt/anaconda3/envs/py/lib/python3.11/site-packages/azure/core/pipeline/_base.py:128\u001b[0m, in \u001b[0;36m_TransportRunner.send\u001b[0;34m(self, request)\u001b[0m\n\u001b[1;32m    125\u001b[0m cleanup_kwargs_for_transport(request\u001b[38;5;241m.\u001b[39mcontext\u001b[38;5;241m.\u001b[39moptions)\n\u001b[1;32m    126\u001b[0m \u001b[38;5;28;01mreturn\u001b[39;00m PipelineResponse(\n\u001b[1;32m    127\u001b[0m     request\u001b[38;5;241m.\u001b[39mhttp_request,\n\u001b[0;32m--> 128\u001b[0m     \u001b[38;5;28mself\u001b[39m\u001b[38;5;241m.\u001b[39m_sender\u001b[38;5;241m.\u001b[39msend(request\u001b[38;5;241m.\u001b[39mhttp_request, \u001b[38;5;241m*\u001b[39m\u001b[38;5;241m*\u001b[39mrequest\u001b[38;5;241m.\u001b[39mcontext\u001b[38;5;241m.\u001b[39moptions),\n\u001b[1;32m    129\u001b[0m     context\u001b[38;5;241m=\u001b[39mrequest\u001b[38;5;241m.\u001b[39mcontext,\n\u001b[1;32m    130\u001b[0m )\n",
      "File \u001b[0;32m~/opt/anaconda3/envs/py/lib/python3.11/site-packages/azure/core/pipeline/transport/_requests_basic.py:409\u001b[0m, in \u001b[0;36mRequestsTransport.send\u001b[0;34m(self, request, proxies, **kwargs)\u001b[0m\n\u001b[1;32m    408\u001b[0m \u001b[38;5;28;01mif\u001b[39;00m error:\n\u001b[0;32m--> 409\u001b[0m     \u001b[38;5;28;01mraise\u001b[39;00m error\n\u001b[1;32m    410\u001b[0m \u001b[38;5;28;01mif\u001b[39;00m _is_rest(request):\n",
      "\u001b[0;31mServiceRequestError\u001b[0m: <urllib3.connection.HTTPSConnection object at 0x1352d4490>: Failed to establish a new connection: [Errno 8] nodename nor servname provided, or not known",
      "\nDuring handling of the above exception, another exception occurred:\n",
      "\u001b[0;31mKeyboardInterrupt\u001b[0m                         Traceback (most recent call last)",
      "Cell \u001b[0;32mIn[10], line 22\u001b[0m\n\u001b[1;32m     19\u001b[0m \u001b[38;5;66;03m# Upload the CSV to Blob Storage\u001b[39;00m\n\u001b[1;32m     20\u001b[0m \u001b[38;5;28;01mtry\u001b[39;00m:\n\u001b[1;32m     21\u001b[0m     \u001b[38;5;66;03m# Upload the contents of the buffer to the blob\u001b[39;00m\n\u001b[0;32m---> 22\u001b[0m     blob_client\u001b[38;5;241m.\u001b[39mupload_blob(csv_buffer\u001b[38;5;241m.\u001b[39mgetvalue(), overwrite\u001b[38;5;241m=\u001b[39m\u001b[38;5;28;01mTrue\u001b[39;00m)\n\u001b[1;32m     23\u001b[0m \u001b[38;5;28;01mexcept\u001b[39;00m \u001b[38;5;167;01mException\u001b[39;00m \u001b[38;5;28;01mas\u001b[39;00m e:\n\u001b[1;32m     24\u001b[0m     \u001b[38;5;28mprint\u001b[39m(\u001b[38;5;124mf\u001b[39m\u001b[38;5;124m\"\u001b[39m\u001b[38;5;124mFailed to upload CSV: \u001b[39m\u001b[38;5;132;01m{\u001b[39;00me\u001b[38;5;132;01m}\u001b[39;00m\u001b[38;5;124m\"\u001b[39m)\n",
      "File \u001b[0;32m~/opt/anaconda3/envs/py/lib/python3.11/site-packages/azure/core/tracing/decorator.py:105\u001b[0m, in \u001b[0;36mdistributed_trace.<locals>.decorator.<locals>.wrapper_use_tracer\u001b[0;34m(*args, **kwargs)\u001b[0m\n\u001b[1;32m    103\u001b[0m span_impl_type \u001b[38;5;241m=\u001b[39m settings\u001b[38;5;241m.\u001b[39mtracing_implementation()\n\u001b[1;32m    104\u001b[0m \u001b[38;5;28;01mif\u001b[39;00m span_impl_type \u001b[38;5;129;01mis\u001b[39;00m \u001b[38;5;28;01mNone\u001b[39;00m:\n\u001b[0;32m--> 105\u001b[0m     \u001b[38;5;28;01mreturn\u001b[39;00m func(\u001b[38;5;241m*\u001b[39margs, \u001b[38;5;241m*\u001b[39m\u001b[38;5;241m*\u001b[39mkwargs)\n\u001b[1;32m    107\u001b[0m \u001b[38;5;66;03m# Merge span is parameter is set, but only if no explicit parent are passed\u001b[39;00m\n\u001b[1;32m    108\u001b[0m \u001b[38;5;28;01mif\u001b[39;00m merge_span \u001b[38;5;129;01mand\u001b[39;00m \u001b[38;5;129;01mnot\u001b[39;00m passed_in_parent:\n",
      "File \u001b[0;32m~/opt/anaconda3/envs/py/lib/python3.11/site-packages/azure/storage/blob/_blob_client.py:605\u001b[0m, in \u001b[0;36mBlobClient.upload_blob\u001b[0;34m(self, data, blob_type, length, metadata, **kwargs)\u001b[0m\n\u001b[1;32m    589\u001b[0m options \u001b[38;5;241m=\u001b[39m _upload_blob_options(\n\u001b[1;32m    590\u001b[0m     data\u001b[38;5;241m=\u001b[39mdata,\n\u001b[1;32m    591\u001b[0m     blob_type\u001b[38;5;241m=\u001b[39mblob_type,\n\u001b[0;32m   (...)\u001b[0m\n\u001b[1;32m    602\u001b[0m     client\u001b[38;5;241m=\u001b[39m\u001b[38;5;28mself\u001b[39m\u001b[38;5;241m.\u001b[39m_client,\n\u001b[1;32m    603\u001b[0m     \u001b[38;5;241m*\u001b[39m\u001b[38;5;241m*\u001b[39mkwargs)\n\u001b[1;32m    604\u001b[0m \u001b[38;5;28;01mif\u001b[39;00m blob_type \u001b[38;5;241m==\u001b[39m BlobType\u001b[38;5;241m.\u001b[39mBlockBlob:\n\u001b[0;32m--> 605\u001b[0m     \u001b[38;5;28;01mreturn\u001b[39;00m upload_block_blob(\u001b[38;5;241m*\u001b[39m\u001b[38;5;241m*\u001b[39moptions)\n\u001b[1;32m    606\u001b[0m \u001b[38;5;28;01mif\u001b[39;00m blob_type \u001b[38;5;241m==\u001b[39m BlobType\u001b[38;5;241m.\u001b[39mPageBlob:\n\u001b[1;32m    607\u001b[0m     \u001b[38;5;28;01mreturn\u001b[39;00m upload_page_blob(\u001b[38;5;241m*\u001b[39m\u001b[38;5;241m*\u001b[39moptions)\n",
      "File \u001b[0;32m~/opt/anaconda3/envs/py/lib/python3.11/site-packages/azure/storage/blob/_upload_helpers.py:105\u001b[0m, in \u001b[0;36mupload_block_blob\u001b[0;34m(client, stream, overwrite, encryption_options, blob_settings, headers, validate_content, max_concurrency, length, **kwargs)\u001b[0m\n\u001b[1;32m    102\u001b[0m     encryption_data, data \u001b[38;5;241m=\u001b[39m encrypt_blob(data, encryption_options[\u001b[38;5;124m'\u001b[39m\u001b[38;5;124mkey\u001b[39m\u001b[38;5;124m'\u001b[39m], encryption_options[\u001b[38;5;124m'\u001b[39m\u001b[38;5;124mversion\u001b[39m\u001b[38;5;124m'\u001b[39m])\n\u001b[1;32m    103\u001b[0m     headers[\u001b[38;5;124m'\u001b[39m\u001b[38;5;124mx-ms-meta-encryptiondata\u001b[39m\u001b[38;5;124m'\u001b[39m] \u001b[38;5;241m=\u001b[39m encryption_data\n\u001b[0;32m--> 105\u001b[0m response \u001b[38;5;241m=\u001b[39m client\u001b[38;5;241m.\u001b[39mupload(\n\u001b[1;32m    106\u001b[0m     body\u001b[38;5;241m=\u001b[39mdata,  \u001b[38;5;66;03m# type: ignore [arg-type]\u001b[39;00m\n\u001b[1;32m    107\u001b[0m     content_length\u001b[38;5;241m=\u001b[39madjusted_count,\n\u001b[1;32m    108\u001b[0m     blob_http_headers\u001b[38;5;241m=\u001b[39mblob_headers,\n\u001b[1;32m    109\u001b[0m     headers\u001b[38;5;241m=\u001b[39mheaders,\n\u001b[1;32m    110\u001b[0m     \u001b[38;5;28mcls\u001b[39m\u001b[38;5;241m=\u001b[39mreturn_response_headers,\n\u001b[1;32m    111\u001b[0m     validate_content\u001b[38;5;241m=\u001b[39mvalidate_content,\n\u001b[1;32m    112\u001b[0m     data_stream_total\u001b[38;5;241m=\u001b[39madjusted_count,\n\u001b[1;32m    113\u001b[0m     upload_stream_current\u001b[38;5;241m=\u001b[39m\u001b[38;5;241m0\u001b[39m,\n\u001b[1;32m    114\u001b[0m     tier\u001b[38;5;241m=\u001b[39mtier\u001b[38;5;241m.\u001b[39mvalue \u001b[38;5;28;01mif\u001b[39;00m tier \u001b[38;5;28;01melse\u001b[39;00m \u001b[38;5;28;01mNone\u001b[39;00m,\n\u001b[1;32m    115\u001b[0m     blob_tags_string\u001b[38;5;241m=\u001b[39mblob_tags_string,\n\u001b[1;32m    116\u001b[0m     immutability_policy_expiry\u001b[38;5;241m=\u001b[39mimmutability_policy_expiry,\n\u001b[1;32m    117\u001b[0m     immutability_policy_mode\u001b[38;5;241m=\u001b[39mimmutability_policy_mode,\n\u001b[1;32m    118\u001b[0m     legal_hold\u001b[38;5;241m=\u001b[39mlegal_hold,\n\u001b[1;32m    119\u001b[0m     \u001b[38;5;241m*\u001b[39m\u001b[38;5;241m*\u001b[39mkwargs)\n\u001b[1;32m    121\u001b[0m \u001b[38;5;28;01mif\u001b[39;00m progress_hook:\n\u001b[1;32m    122\u001b[0m     progress_hook(adjusted_count, adjusted_count)\n",
      "File \u001b[0;32m~/opt/anaconda3/envs/py/lib/python3.11/site-packages/azure/core/tracing/decorator.py:105\u001b[0m, in \u001b[0;36mdistributed_trace.<locals>.decorator.<locals>.wrapper_use_tracer\u001b[0;34m(*args, **kwargs)\u001b[0m\n\u001b[1;32m    103\u001b[0m span_impl_type \u001b[38;5;241m=\u001b[39m settings\u001b[38;5;241m.\u001b[39mtracing_implementation()\n\u001b[1;32m    104\u001b[0m \u001b[38;5;28;01mif\u001b[39;00m span_impl_type \u001b[38;5;129;01mis\u001b[39;00m \u001b[38;5;28;01mNone\u001b[39;00m:\n\u001b[0;32m--> 105\u001b[0m     \u001b[38;5;28;01mreturn\u001b[39;00m func(\u001b[38;5;241m*\u001b[39margs, \u001b[38;5;241m*\u001b[39m\u001b[38;5;241m*\u001b[39mkwargs)\n\u001b[1;32m    107\u001b[0m \u001b[38;5;66;03m# Merge span is parameter is set, but only if no explicit parent are passed\u001b[39;00m\n\u001b[1;32m    108\u001b[0m \u001b[38;5;28;01mif\u001b[39;00m merge_span \u001b[38;5;129;01mand\u001b[39;00m \u001b[38;5;129;01mnot\u001b[39;00m passed_in_parent:\n",
      "File \u001b[0;32m~/opt/anaconda3/envs/py/lib/python3.11/site-packages/azure/storage/blob/_generated/operations/_block_blob_operations.py:876\u001b[0m, in \u001b[0;36mBlockBlobOperations.upload\u001b[0;34m(self, content_length, body, timeout, transactional_content_md5, metadata, tier, request_id_parameter, blob_tags_string, immutability_policy_expiry, immutability_policy_mode, legal_hold, transactional_content_crc64, structured_body_type, structured_content_length, blob_http_headers, lease_access_conditions, cpk_info, cpk_scope_info, modified_access_conditions, **kwargs)\u001b[0m\n\u001b[1;32m    873\u001b[0m _request\u001b[38;5;241m.\u001b[39murl \u001b[38;5;241m=\u001b[39m \u001b[38;5;28mself\u001b[39m\u001b[38;5;241m.\u001b[39m_client\u001b[38;5;241m.\u001b[39mformat_url(_request\u001b[38;5;241m.\u001b[39murl)\n\u001b[1;32m    875\u001b[0m _stream \u001b[38;5;241m=\u001b[39m \u001b[38;5;28;01mFalse\u001b[39;00m\n\u001b[0;32m--> 876\u001b[0m pipeline_response: PipelineResponse \u001b[38;5;241m=\u001b[39m \u001b[38;5;28mself\u001b[39m\u001b[38;5;241m.\u001b[39m_client\u001b[38;5;241m.\u001b[39m_pipeline\u001b[38;5;241m.\u001b[39mrun(  \u001b[38;5;66;03m# pylint: disable=protected-access\u001b[39;00m\n\u001b[1;32m    877\u001b[0m     _request, stream\u001b[38;5;241m=\u001b[39m_stream, \u001b[38;5;241m*\u001b[39m\u001b[38;5;241m*\u001b[39mkwargs\n\u001b[1;32m    878\u001b[0m )\n\u001b[1;32m    880\u001b[0m response \u001b[38;5;241m=\u001b[39m pipeline_response\u001b[38;5;241m.\u001b[39mhttp_response\n\u001b[1;32m    882\u001b[0m \u001b[38;5;28;01mif\u001b[39;00m response\u001b[38;5;241m.\u001b[39mstatus_code \u001b[38;5;129;01mnot\u001b[39;00m \u001b[38;5;129;01min\u001b[39;00m [\u001b[38;5;241m201\u001b[39m]:\n",
      "File \u001b[0;32m~/opt/anaconda3/envs/py/lib/python3.11/site-packages/azure/core/pipeline/_base.py:240\u001b[0m, in \u001b[0;36mPipeline.run\u001b[0;34m(self, request, **kwargs)\u001b[0m\n\u001b[1;32m    238\u001b[0m pipeline_request: PipelineRequest[HTTPRequestType] \u001b[38;5;241m=\u001b[39m PipelineRequest(request, context)\n\u001b[1;32m    239\u001b[0m first_node \u001b[38;5;241m=\u001b[39m \u001b[38;5;28mself\u001b[39m\u001b[38;5;241m.\u001b[39m_impl_policies[\u001b[38;5;241m0\u001b[39m] \u001b[38;5;28;01mif\u001b[39;00m \u001b[38;5;28mself\u001b[39m\u001b[38;5;241m.\u001b[39m_impl_policies \u001b[38;5;28;01melse\u001b[39;00m _TransportRunner(\u001b[38;5;28mself\u001b[39m\u001b[38;5;241m.\u001b[39m_transport)\n\u001b[0;32m--> 240\u001b[0m \u001b[38;5;28;01mreturn\u001b[39;00m first_node\u001b[38;5;241m.\u001b[39msend(pipeline_request)\n",
      "File \u001b[0;32m~/opt/anaconda3/envs/py/lib/python3.11/site-packages/azure/core/pipeline/_base.py:96\u001b[0m, in \u001b[0;36m_SansIOHTTPPolicyRunner.send\u001b[0;34m(self, request)\u001b[0m\n\u001b[1;32m     94\u001b[0m _await_result(\u001b[38;5;28mself\u001b[39m\u001b[38;5;241m.\u001b[39m_policy\u001b[38;5;241m.\u001b[39mon_request, request)\n\u001b[1;32m     95\u001b[0m \u001b[38;5;28;01mtry\u001b[39;00m:\n\u001b[0;32m---> 96\u001b[0m     response \u001b[38;5;241m=\u001b[39m \u001b[38;5;28mself\u001b[39m\u001b[38;5;241m.\u001b[39mnext\u001b[38;5;241m.\u001b[39msend(request)\n\u001b[1;32m     97\u001b[0m \u001b[38;5;28;01mexcept\u001b[39;00m \u001b[38;5;167;01mException\u001b[39;00m:\n\u001b[1;32m     98\u001b[0m     _await_result(\u001b[38;5;28mself\u001b[39m\u001b[38;5;241m.\u001b[39m_policy\u001b[38;5;241m.\u001b[39mon_exception, request)\n",
      "File \u001b[0;32m~/opt/anaconda3/envs/py/lib/python3.11/site-packages/azure/core/pipeline/_base.py:96\u001b[0m, in \u001b[0;36m_SansIOHTTPPolicyRunner.send\u001b[0;34m(self, request)\u001b[0m\n\u001b[1;32m     94\u001b[0m _await_result(\u001b[38;5;28mself\u001b[39m\u001b[38;5;241m.\u001b[39m_policy\u001b[38;5;241m.\u001b[39mon_request, request)\n\u001b[1;32m     95\u001b[0m \u001b[38;5;28;01mtry\u001b[39;00m:\n\u001b[0;32m---> 96\u001b[0m     response \u001b[38;5;241m=\u001b[39m \u001b[38;5;28mself\u001b[39m\u001b[38;5;241m.\u001b[39mnext\u001b[38;5;241m.\u001b[39msend(request)\n\u001b[1;32m     97\u001b[0m \u001b[38;5;28;01mexcept\u001b[39;00m \u001b[38;5;167;01mException\u001b[39;00m:\n\u001b[1;32m     98\u001b[0m     _await_result(\u001b[38;5;28mself\u001b[39m\u001b[38;5;241m.\u001b[39m_policy\u001b[38;5;241m.\u001b[39mon_exception, request)\n",
      "    \u001b[0;31m[... skipping similar frames: _SansIOHTTPPolicyRunner.send at line 96 (2 times)]\u001b[0m\n",
      "File \u001b[0;32m~/opt/anaconda3/envs/py/lib/python3.11/site-packages/azure/core/pipeline/_base.py:96\u001b[0m, in \u001b[0;36m_SansIOHTTPPolicyRunner.send\u001b[0;34m(self, request)\u001b[0m\n\u001b[1;32m     94\u001b[0m _await_result(\u001b[38;5;28mself\u001b[39m\u001b[38;5;241m.\u001b[39m_policy\u001b[38;5;241m.\u001b[39mon_request, request)\n\u001b[1;32m     95\u001b[0m \u001b[38;5;28;01mtry\u001b[39;00m:\n\u001b[0;32m---> 96\u001b[0m     response \u001b[38;5;241m=\u001b[39m \u001b[38;5;28mself\u001b[39m\u001b[38;5;241m.\u001b[39mnext\u001b[38;5;241m.\u001b[39msend(request)\n\u001b[1;32m     97\u001b[0m \u001b[38;5;28;01mexcept\u001b[39;00m \u001b[38;5;167;01mException\u001b[39;00m:\n\u001b[1;32m     98\u001b[0m     _await_result(\u001b[38;5;28mself\u001b[39m\u001b[38;5;241m.\u001b[39m_policy\u001b[38;5;241m.\u001b[39mon_exception, request)\n",
      "File \u001b[0;32m~/opt/anaconda3/envs/py/lib/python3.11/site-packages/azure/core/pipeline/policies/_redirect.py:204\u001b[0m, in \u001b[0;36mRedirectPolicy.send\u001b[0;34m(self, request)\u001b[0m\n\u001b[1;32m    202\u001b[0m original_domain \u001b[38;5;241m=\u001b[39m get_domain(request\u001b[38;5;241m.\u001b[39mhttp_request\u001b[38;5;241m.\u001b[39murl) \u001b[38;5;28;01mif\u001b[39;00m redirect_settings[\u001b[38;5;124m\"\u001b[39m\u001b[38;5;124mallow\u001b[39m\u001b[38;5;124m\"\u001b[39m] \u001b[38;5;28;01melse\u001b[39;00m \u001b[38;5;28;01mNone\u001b[39;00m\n\u001b[1;32m    203\u001b[0m \u001b[38;5;28;01mwhile\u001b[39;00m retryable:\n\u001b[0;32m--> 204\u001b[0m     response \u001b[38;5;241m=\u001b[39m \u001b[38;5;28mself\u001b[39m\u001b[38;5;241m.\u001b[39mnext\u001b[38;5;241m.\u001b[39msend(request)\n\u001b[1;32m    205\u001b[0m     redirect_location \u001b[38;5;241m=\u001b[39m \u001b[38;5;28mself\u001b[39m\u001b[38;5;241m.\u001b[39mget_redirect_location(response)\n\u001b[1;32m    206\u001b[0m     \u001b[38;5;28;01mif\u001b[39;00m redirect_location \u001b[38;5;129;01mand\u001b[39;00m redirect_settings[\u001b[38;5;124m\"\u001b[39m\u001b[38;5;124mallow\u001b[39m\u001b[38;5;124m\"\u001b[39m]:\n",
      "File \u001b[0;32m~/opt/anaconda3/envs/py/lib/python3.11/site-packages/azure/core/pipeline/_base.py:96\u001b[0m, in \u001b[0;36m_SansIOHTTPPolicyRunner.send\u001b[0;34m(self, request)\u001b[0m\n\u001b[1;32m     94\u001b[0m _await_result(\u001b[38;5;28mself\u001b[39m\u001b[38;5;241m.\u001b[39m_policy\u001b[38;5;241m.\u001b[39mon_request, request)\n\u001b[1;32m     95\u001b[0m \u001b[38;5;28;01mtry\u001b[39;00m:\n\u001b[0;32m---> 96\u001b[0m     response \u001b[38;5;241m=\u001b[39m \u001b[38;5;28mself\u001b[39m\u001b[38;5;241m.\u001b[39mnext\u001b[38;5;241m.\u001b[39msend(request)\n\u001b[1;32m     97\u001b[0m \u001b[38;5;28;01mexcept\u001b[39;00m \u001b[38;5;167;01mException\u001b[39;00m:\n\u001b[1;32m     98\u001b[0m     _await_result(\u001b[38;5;28mself\u001b[39m\u001b[38;5;241m.\u001b[39m_policy\u001b[38;5;241m.\u001b[39mon_exception, request)\n",
      "File \u001b[0;32m~/opt/anaconda3/envs/py/lib/python3.11/site-packages/azure/storage/blob/_shared/policies.py:553\u001b[0m, in \u001b[0;36mStorageRetryPolicy.send\u001b[0;34m(self, request)\u001b[0m\n\u001b[1;32m    547\u001b[0m \u001b[38;5;28;01mif\u001b[39;00m retries_remaining:\n\u001b[1;32m    548\u001b[0m     retry_hook(\n\u001b[1;32m    549\u001b[0m         retry_settings,\n\u001b[1;32m    550\u001b[0m         request\u001b[38;5;241m=\u001b[39mrequest\u001b[38;5;241m.\u001b[39mhttp_request,\n\u001b[1;32m    551\u001b[0m         response\u001b[38;5;241m=\u001b[39m\u001b[38;5;28;01mNone\u001b[39;00m,\n\u001b[1;32m    552\u001b[0m         error\u001b[38;5;241m=\u001b[39merr)\n\u001b[0;32m--> 553\u001b[0m     \u001b[38;5;28mself\u001b[39m\u001b[38;5;241m.\u001b[39msleep(retry_settings, request\u001b[38;5;241m.\u001b[39mcontext\u001b[38;5;241m.\u001b[39mtransport)\n\u001b[1;32m    554\u001b[0m     \u001b[38;5;28;01mcontinue\u001b[39;00m\n\u001b[1;32m    555\u001b[0m \u001b[38;5;28;01mraise\u001b[39;00m err\n",
      "File \u001b[0;32m~/opt/anaconda3/envs/py/lib/python3.11/site-packages/azure/storage/blob/_shared/policies.py:463\u001b[0m, in \u001b[0;36mStorageRetryPolicy.sleep\u001b[0;34m(self, settings, transport)\u001b[0m\n\u001b[1;32m    461\u001b[0m \u001b[38;5;28;01mif\u001b[39;00m \u001b[38;5;129;01mnot\u001b[39;00m backoff \u001b[38;5;129;01mor\u001b[39;00m backoff \u001b[38;5;241m<\u001b[39m \u001b[38;5;241m0\u001b[39m:\n\u001b[1;32m    462\u001b[0m     \u001b[38;5;28;01mreturn\u001b[39;00m\n\u001b[0;32m--> 463\u001b[0m transport\u001b[38;5;241m.\u001b[39msleep(backoff)\n",
      "File \u001b[0;32m~/opt/anaconda3/envs/py/lib/python3.11/site-packages/azure/core/pipeline/transport/_base.py:177\u001b[0m, in \u001b[0;36mHttpTransport.sleep\u001b[0;34m(self, duration)\u001b[0m\n\u001b[1;32m    165\u001b[0m \u001b[38;5;28;01mdef\u001b[39;00m \u001b[38;5;21msleep\u001b[39m(\u001b[38;5;28mself\u001b[39m, duration: \u001b[38;5;28mfloat\u001b[39m) \u001b[38;5;241m-\u001b[39m\u001b[38;5;241m>\u001b[39m \u001b[38;5;28;01mNone\u001b[39;00m:\n\u001b[1;32m    166\u001b[0m \u001b[38;5;250m    \u001b[39m\u001b[38;5;124;03m\"\"\"Sleep for the specified duration.\u001b[39;00m\n\u001b[1;32m    167\u001b[0m \n\u001b[1;32m    168\u001b[0m \u001b[38;5;124;03m    You should always ask the transport to sleep, and not call directly\u001b[39;00m\n\u001b[0;32m   (...)\u001b[0m\n\u001b[1;32m    175\u001b[0m \u001b[38;5;124;03m    :param float duration: The number of seconds to sleep.\u001b[39;00m\n\u001b[1;32m    176\u001b[0m \u001b[38;5;124;03m    \"\"\"\u001b[39;00m\n\u001b[0;32m--> 177\u001b[0m     time\u001b[38;5;241m.\u001b[39msleep(duration)\n",
      "\u001b[0;31mKeyboardInterrupt\u001b[0m: "
     ]
    }
   ],
   "source": [
    "from azure.storage.blob import BlobClient\n",
    "from io import StringIO\n",
    "import pandas as pd\n",
    "from dotenv import load_dotenv\n",
    "import os\n",
    "\n",
    "load_dotenv()\n",
    "base_sas_url = os.getenv(\"BLOB_BASE_URL\")\n",
    "blob_sas_token = os.getenv(\"BLOB_SAS_KEY\")\n",
    "# Define the SAS URL\n",
    "sas_url = \"https://<storage-account-name>.blob.core.windows.net/<container-name>/<blob-name>.csv?<sas-token>\"\n",
    "f\"{base_sas_url}table/searchs.csv?{blob_sas_token}\"\n",
    "# Connect to the Blob using the SAS URL\n",
    "blob_client = BlobClient.from_blob_url(sas_url)\n",
    "\n",
    "# Create a DataFrame with the specified columns\n",
    "data = {\n",
    "    'address': [],\n",
    "    'map_image_url': [],\n",
    "    'annotated_image_url': [],\n",
    "    'cropped_image_url': [],\n",
    "    'labels': [],\n",
    "    'response': [],\n",
    "    'roof_detected': [],\n",
    "    'timestamp': [],  # Add the timestamp column\n",
    "    'ip_address': []  # Add the ip_address column\n",
    "}\n",
    "\n",
    "df = pd.DataFrame(data)\n",
    "\n",
    "csv_buffer = StringIO()\n",
    "df.to_csv(csv_buffer, index=False)\n",
    "\n",
    "# Upload the CSV to Blob Storage\n",
    "try:\n",
    "    # Upload the contents of the buffer to the blob\n",
    "    blob_client.upload_blob(csv_buffer.getvalue(), overwrite=True)\n",
    "except Exception as e:\n",
    "    print(f\"Failed to upload CSV: {e}\")\n"
   ]
  },
  {
   "cell_type": "code",
   "execution_count": 15,
   "metadata": {},
   "outputs": [
    {
     "name": "stdout",
     "output_type": "stream",
     "text": [
      "Empty DataFrame\n",
      "Columns: [address, map_image_url, annotated_image_url, cropped_image_url, labels, response, roof_detected, timestamp, ip_address]\n",
      "Index: []\n"
     ]
    }
   ],
   "source": [
    "from azure.storage.blob import BlobClient\n",
    "from io import StringIO\n",
    "import pandas as pd\n",
    "from dotenv import load_dotenv\n",
    "import os\n",
    "\n",
    "load_dotenv()\n",
    "base_sas_url = os.getenv(\"BLOB_BASE_URL\")\n",
    "blob_sas_token = os.getenv(\"BLOB_SAS_KEY\")\n",
    "# Define the SAS URL\n",
    "sas_url = f\"{base_sas_url}table/searchs.csv?{blob_sas_token}\"\n",
    "# Connect to the Blob using the SAS URL\n",
    "\n",
    "blob_client = BlobClient.from_blob_url(sas_url)\n",
    "\n",
    "# blob_client.download_blob().readall()\n",
    "\n",
    "# Load the CSV from Blob Storage\n",
    "try:\n",
    "    # Download the blob as a string\n",
    "    csv_data = blob_client.download_blob().readall()\n",
    "    # Load the string into a DataFrame\n",
    "    df = pd.read_csv(StringIO(csv_data.decode()))\n",
    "    \n",
    "except Exception as e:\n",
    "    print(f\"Failed to load CSV: {e}\")\n"
   ]
  },
  {
   "cell_type": "code",
   "execution_count": 19,
   "metadata": {},
   "outputs": [
    {
     "data": {
      "text/plain": [
       "Index(['address', 'map_image_url', 'annotated_image_url', 'cropped_image_url',\n",
       "       'labels', 'response', 'roof_detected', 'timestamp', 'ip_address'],\n",
       "      dtype='object')"
      ]
     },
     "execution_count": 19,
     "metadata": {},
     "output_type": "execute_result"
    }
   ],
   "source": [
    "df.columns"
   ]
  },
  {
   "cell_type": "code",
   "execution_count": null,
   "metadata": {},
   "outputs": [],
   "source": []
  }
 ],
 "metadata": {
  "kernelspec": {
   "display_name": "py",
   "language": "python",
   "name": "python3"
  },
  "language_info": {
   "codemirror_mode": {
    "name": "ipython",
    "version": 3
   },
   "file_extension": ".py",
   "mimetype": "text/x-python",
   "name": "python",
   "nbconvert_exporter": "python",
   "pygments_lexer": "ipython3",
   "version": "3.11.3"
  }
 },
 "nbformat": 4,
 "nbformat_minor": 2
}
